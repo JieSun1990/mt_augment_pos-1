{
  "nbformat": 4,
  "nbformat_minor": 0,
  "metadata": {
    "accelerator": "GPU",
    "colab": {
      "name": "Download_dataset_iwslt2017.ipynb",
      "provenance": [],
      "collapsed_sections": [],
      "machine_shape": "hm"
    },
    "kernelspec": {
      "display_name": "Python 3",
      "name": "python3"
    },
    "language_info": {
      "name": "python"
    }
  },
  "cells": [
    {
      "cell_type": "code",
      "metadata": {
        "colab": {
          "base_uri": "https://localhost:8080/"
        },
        "id": "087EsvASIZv2",
        "outputId": "cb6531c2-d130-4902-b54f-10dbee84980e"
      },
      "source": [
        "from google.colab import drive\n",
        "drive.mount('/content/MyDrive') # for google colab. adjust accordingly"
      ],
      "execution_count": null,
      "outputs": [
        {
          "output_type": "stream",
          "name": "stdout",
          "text": [
            "Mounted at /content/MyDrive\n"
          ]
        }
      ]
    },
    {
      "cell_type": "code",
      "metadata": {
        "id": "gx58cgA6IfaD"
      },
      "source": [
        "PARENT_DIR = '/content/MyDrive/MyDrive/Jennas_Code/' # for google colab. adjust accordingly"
      ],
      "execution_count": null,
      "outputs": []
    },
    {
      "cell_type": "code",
      "metadata": {
        "id": "hICQh-5kISUd",
        "colab": {
          "base_uri": "https://localhost:8080/"
        },
        "outputId": "d44aa0b5-5fbb-490c-f063-b8e095cea280"
      },
      "source": [
        "# utilities you will need or are free to use\n",
        "import pickle\n",
        "from typing import List, Tuple, Dict\n",
        "\n",
        "import matplotlib.pyplot as plt\n",
        "import numpy as np\n",
        "import pandas as pd\n",
        "\n",
        "import torch\n",
        "from torch import nn, optim\n",
        "from torch.nn import BCEWithLogitsLoss, CrossEntropyLoss\n",
        "from torch.nn.utils.rnn import pack_padded_sequence, pad_packed_sequence, pad_sequence\n",
        "from torch.utils.data import DataLoader, Dataset\n",
        "\n",
        "from torchtext.data.metrics import bleu_score\n",
        "\n",
        "import nltk\n",
        "from nltk.tokenize import word_tokenize\n",
        "nltk.download('punkt')\n",
        "tokenizer = nltk.RegexpTokenizer(r\"\\w+\")"
      ],
      "execution_count": null,
      "outputs": [
        {
          "output_type": "stream",
          "name": "stdout",
          "text": [
            "[nltk_data] Downloading package punkt to /root/nltk_data...\n",
            "[nltk_data]   Package punkt is already up-to-date!\n"
          ]
        }
      ]
    },
    {
      "cell_type": "markdown",
      "metadata": {
        "id": "HEN0D17nzqow"
      },
      "source": [
        "![image.png](data:image/png;base64,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)"
      ]
    },
    {
      "cell_type": "markdown",
      "source": [
        "# Download data"
      ],
      "metadata": {
        "id": "2rgxLhHuonIG"
      }
    },
    {
      "cell_type": "code",
      "metadata": {
        "id": "Dz6BL7HdZn2w"
      },
      "source": [
        "from torchtext.datasets import IWSLT2017\n",
        "train_iter, valid_iter, test_iter = IWSLT2017(root='.data', split=('train', 'valid', 'test'), language_pair=('de', 'en'))"
      ],
      "execution_count": null,
      "outputs": []
    },
    {
      "cell_type": "code",
      "metadata": {
        "colab": {
          "base_uri": "https://localhost:8080/"
        },
        "id": "_7BCXpAuXaQq",
        "outputId": "e8cf9f48-caf3-4cff-93a5-effcfcbc75f5"
      },
      "source": [
        "src_sentence, tgt_sentence = next(train_iter) #just an example\n",
        "print(src_sentence,tgt_sentence)\n",
        "src_sentence, tgt_sentence = next(valid_iter) #just an example\n",
        "print(src_sentence,tgt_sentence)\n",
        "src_sentence, tgt_sentence = next(test_iter) #just an example\n",
        "print(src_sentence,tgt_sentence)"
      ],
      "execution_count": null,
      "outputs": [
        {
          "output_type": "stream",
          "name": "stdout",
          "text": [
            "Vielen Dank, Chris.\n",
            " Thank you so much, Chris.\n",
            "\n",
            "Letztes Jahr habe ich diese beiden Folien gezeigt, um zu veranschaulichen, dass die arktische Eiskappe, die für annähernd drei Millionen Jahre die Grösse der unteren 48 Staaten hatte, um 40 Prozent geschrumpft ist.\n",
            " Last year I showed these two slides so that  demonstrate that the arctic ice cap,  which for most of the last three million years  has been the size of the lower 48 states,  has shrunk by 40 percent.\n",
            "\n",
            "Vor einigen Jahren, hier bei TED, stellte Peter Skillman einen Design-Wettbewerb namens \"Die Marshmallow-Herausforderung\" vor.\n",
            " Several years ago here at TED, Peter Skillman  introduced a design challenge  called the marshmallow challenge.\n",
            "\n"
          ]
        }
      ]
    },
    {
      "cell_type": "code",
      "metadata": {
        "id": "i_-wZH_oj-5a"
      },
      "source": [
        "#####\n",
        "# Train\n",
        "#####\n",
        "\n",
        "de = []\n",
        "en = []\n",
        "for t in train_iter:\n",
        "  de.append(tokenizer.tokenize(t[0].lower()))\n",
        "  en.append(tokenizer.tokenize(t[1].lower()))"
      ],
      "execution_count": null,
      "outputs": []
    },
    {
      "cell_type": "code",
      "metadata": {
        "colab": {
          "base_uri": "https://localhost:8080/",
          "height": 422
        },
        "id": "6myDtE07kiN5",
        "outputId": "853b04da-14f9-45ae-e6d4-a572330413c9"
      },
      "source": [
        "train_df = pd.DataFrame({'de':de,'en':en})\n",
        "train_df"
      ],
      "execution_count": null,
      "outputs": [
        {
          "output_type": "execute_result",
          "data": {
            "text/html": [
              "<div>\n",
              "<style scoped>\n",
              "    .dataframe tbody tr th:only-of-type {\n",
              "        vertical-align: middle;\n",
              "    }\n",
              "\n",
              "    .dataframe tbody tr th {\n",
              "        vertical-align: top;\n",
              "    }\n",
              "\n",
              "    .dataframe thead th {\n",
              "        text-align: right;\n",
              "    }\n",
              "</style>\n",
              "<table border=\"1\" class=\"dataframe\">\n",
              "  <thead>\n",
              "    <tr style=\"text-align: right;\">\n",
              "      <th></th>\n",
              "      <th>de</th>\n",
              "      <th>en</th>\n",
              "    </tr>\n",
              "  </thead>\n",
              "  <tbody>\n",
              "    <tr>\n",
              "      <th>0</th>\n",
              "      <td>[es, ist, mir, wirklich, eine, ehre, zweimal, ...</td>\n",
              "      <td>[and, it, s, truly, a, great, honor, to, have,...</td>\n",
              "    </tr>\n",
              "    <tr>\n",
              "      <th>1</th>\n",
              "      <td>[ich, bin, wirklich, begeistert, von, dieser, ...</td>\n",
              "      <td>[i, have, been, blown, away, by, this, confere...</td>\n",
              "    </tr>\n",
              "    <tr>\n",
              "      <th>2</th>\n",
              "      <td>[das, meine, ich, ernst, teilweise, deshalb, w...</td>\n",
              "      <td>[and, i, say, that, sincerely, partly, because...</td>\n",
              "    </tr>\n",
              "    <tr>\n",
              "      <th>3</th>\n",
              "      <td>[versetzen, sie, sich, mal, in, meine, lage]</td>\n",
              "      <td>[put, yourselves, in, my, position]</td>\n",
              "    </tr>\n",
              "    <tr>\n",
              "      <th>4</th>\n",
              "      <td>[ich, bin, bin, acht, jahre, lang, mit, der, a...</td>\n",
              "      <td>[i, flew, on, air, force, two, for, eight, years]</td>\n",
              "    </tr>\n",
              "    <tr>\n",
              "      <th>...</th>\n",
              "      <td>...</td>\n",
              "      <td>...</td>\n",
              "    </tr>\n",
              "    <tr>\n",
              "      <th>206106</th>\n",
              "      <td>[den, alten, griechen, fiel, auch, nicht, eine...</td>\n",
              "      <td>[the, ancient, greeks, didn, t, just, wake, up...</td>\n",
              "    </tr>\n",
              "    <tr>\n",
              "      <th>206107</th>\n",
              "      <td>[wir, menschen, brauchten, jahrhunderte, um, s...</td>\n",
              "      <td>[it, took, centuries, even, for, humans, to, r...</td>\n",
              "    </tr>\n",
              "    <tr>\n",
              "      <th>206108</th>\n",
              "      <td>[deshalb, müssen, wir, unser, verständnis, von...</td>\n",
              "      <td>[and, so, we, must, continuously, challenge, o...</td>\n",
              "    </tr>\n",
              "    <tr>\n",
              "      <th>206109</th>\n",
              "      <td>[figuren, danke, danke, danke, danke, danke]</td>\n",
              "      <td>[characters, thank, you, thank, you, thank, yo...</td>\n",
              "    </tr>\n",
              "    <tr>\n",
              "      <th>206110</th>\n",
              "      <td>[frankensteins, monster, ss, danke]</td>\n",
              "      <td>[frankenstein, s, monster, ss, thank, you]</td>\n",
              "    </tr>\n",
              "  </tbody>\n",
              "</table>\n",
              "<p>206111 rows × 2 columns</p>\n",
              "</div>"
            ],
            "text/plain": [
              "                                                       de                                                 en\n",
              "0       [es, ist, mir, wirklich, eine, ehre, zweimal, ...  [and, it, s, truly, a, great, honor, to, have,...\n",
              "1       [ich, bin, wirklich, begeistert, von, dieser, ...  [i, have, been, blown, away, by, this, confere...\n",
              "2       [das, meine, ich, ernst, teilweise, deshalb, w...  [and, i, say, that, sincerely, partly, because...\n",
              "3            [versetzen, sie, sich, mal, in, meine, lage]                [put, yourselves, in, my, position]\n",
              "4       [ich, bin, bin, acht, jahre, lang, mit, der, a...  [i, flew, on, air, force, two, for, eight, years]\n",
              "...                                                   ...                                                ...\n",
              "206106  [den, alten, griechen, fiel, auch, nicht, eine...  [the, ancient, greeks, didn, t, just, wake, up...\n",
              "206107  [wir, menschen, brauchten, jahrhunderte, um, s...  [it, took, centuries, even, for, humans, to, r...\n",
              "206108  [deshalb, müssen, wir, unser, verständnis, von...  [and, so, we, must, continuously, challenge, o...\n",
              "206109       [figuren, danke, danke, danke, danke, danke]  [characters, thank, you, thank, you, thank, yo...\n",
              "206110                [frankensteins, monster, ss, danke]         [frankenstein, s, monster, ss, thank, you]\n",
              "\n",
              "[206111 rows x 2 columns]"
            ]
          },
          "metadata": {},
          "execution_count": 25
        }
      ]
    },
    {
      "cell_type": "code",
      "metadata": {
        "id": "GvTw65LTlNpF"
      },
      "source": [
        "# for record:\n",
        "train_df.to_csv(PARENT_DIR+'data/iwlst_train.csv')\n",
        "\n",
        "# make a dict\n",
        "big_dict = {'de':train_df['de'].to_list(),\n",
        "                  'en': train_df['en'].to_list()}\n",
        "# save into pickle\n",
        "file_name = PARENT_DIR+'data/iwlst_'+'train'+'_sentences.pkl'\n",
        "dump(big_dict, open(file_name,'wb'))\n",
        "print('Saved:',file_name)"
      ],
      "execution_count": null,
      "outputs": []
    },
    {
      "cell_type": "code",
      "metadata": {
        "id": "g8kxIWdWlpmT",
        "colab": {
          "base_uri": "https://localhost:8080/"
        },
        "outputId": "160aa123-852d-430c-c0c4-adc53b924f43"
      },
      "source": [
        "#####\n",
        "# Valid\n",
        "#####\n",
        "\n",
        "de = []\n",
        "en = []\n",
        "for t in valid_iter:\n",
        "  de.append(tokenizer.tokenize(t[0].lower()))\n",
        "  en.append(tokenizer.tokenize(t[1].lower()))\n",
        "valid_df = pd.DataFrame({'de':de,'en':en})\n",
        "valid_df\n",
        "\n",
        "# for record:\n",
        "valid_df.to_csv(PARENT_DIR+'data/iwlst_valid.csv')\n",
        "\n",
        "# make a dict\n",
        "big_dict = {'de':valid_df['de'].to_list(),\n",
        "                  'en': valid_df['en'].to_list()}\n",
        "# save into pickle\n",
        "file_name = PARENT_DIR+'data/iwlst_'+'valid'+'_sentences.pkl'\n",
        "pickle.dump(big_dict, open(file_name,'wb'))\n",
        "print('Saved:',file_name)"
      ],
      "execution_count": null,
      "outputs": [
        {
          "output_type": "stream",
          "name": "stdout",
          "text": [
            "Saved: /content/MyDrive/MyDrive/Jennas_Code/data/iwlst_valid_sentences.pkl\n"
          ]
        }
      ]
    },
    {
      "cell_type": "code",
      "metadata": {
        "id": "gXP2c-OSNS0K"
      },
      "source": [
        "#####\n",
        "# Test\n",
        "#####\n",
        "\n",
        "de = []\n",
        "en = []\n",
        "for t in test_iter:\n",
        "  de.append(tokenizer.tokenize(t[0].lower()))\n",
        "  en.append(tokenizer.tokenize(t[1].lower()))\n",
        "test_df = pd.DataFrame({'de':de,'en':en})\n",
        "test_df\n",
        "\n",
        "# for record:\n",
        "test_df.to_csv(PARENT_DIR+'data/iwlst_test.csv')\n",
        "\n",
        "# make a dict\n",
        "big_dict = {'de':test_df['de'].to_list(),\n",
        "                  'en': test_df['en'].to_list()}\n",
        "# save into pickle\n",
        "file_name = PARENT_DIR+'data/iwlst_'+'test'+'_sentences.pkl'\n",
        "dump(big_dict, open(file_name,'wb'))\n",
        "print('Saved:',file_name)"
      ],
      "execution_count": null,
      "outputs": []
    },
    {
      "cell_type": "markdown",
      "source": [
        "# Take 10% of the dataset"
      ],
      "metadata": {
        "id": "Y01goMDyorKL"
      }
    },
    {
      "cell_type": "code",
      "metadata": {
        "colab": {
          "base_uri": "https://localhost:8080/"
        },
        "id": "ywDd56k22bnx",
        "outputId": "c7675125-273b-49ad-e5fd-d82cc1e63c55"
      },
      "source": [
        "def get_small(t_iter,name):\n",
        "  \"\"\"\n",
        "  t_iter: train_iter, test_iter,valid_iter\n",
        "  t: 'train','test','valid'\n",
        "  \"\"\"\n",
        "  de = []\n",
        "  en = []\n",
        "  for t in t_iter:\n",
        "    de.append(tokenizer.tokenize(t[0].lower()))\n",
        "    en.append(tokenizer.tokenize(t[1].lower()))\n",
        "  t_df = pd.DataFrame({'de':de,'en':en})\n",
        "  t_df = t_df.sample(frac=0.1, replace=False, random_state=1)\n",
        "  print(len(t_df))\n",
        "  # make a dict\n",
        "  big_dict = {'de':t_df['de'].to_list(),\n",
        "                    'en': t_df['en'].to_list()}\n",
        "  # save into pickle\n",
        "  print(PARENT_DIR)\n",
        "  file_name = PARENT_DIR+'data/iwlst_'+ name +'_sentences_small.pkl'\n",
        "  \n",
        "  pickle.dump(big_dict, open(file_name,'wb'))\n",
        "  print('Saved:',file_name)\n",
        "\n",
        "get_small(train_iter,'train')\n",
        "get_small(test_iter,'test')\n",
        "get_small(valid_iter,'valid')"
      ],
      "execution_count": null,
      "outputs": [
        {
          "output_type": "stream",
          "name": "stdout",
          "text": [
            "20611\n",
            "/content/MyDrive/MyDrive/Jennas_Code/\n",
            "Saved: /content/MyDrive/MyDrive/Jennas_Code/data/iwlst_train_sentences_small.pkl\n",
            "157\n",
            "/content/MyDrive/MyDrive/Jennas_Code/\n",
            "Saved: /content/MyDrive/MyDrive/Jennas_Code/data/iwlst_test_sentences_small.pkl\n",
            "89\n",
            "/content/MyDrive/MyDrive/Jennas_Code/\n",
            "Saved: /content/MyDrive/MyDrive/Jennas_Code/data/iwlst_valid_sentences_small.pkl\n"
          ]
        }
      ]
    },
    {
      "cell_type": "code",
      "metadata": {
        "colab": {
          "base_uri": "https://localhost:8080/"
        },
        "id": "9u0ksjTMZXTf",
        "outputId": "c58dbd60-4f37-409a-8d85-a33b625a2527"
      },
      "source": [
        "# verify that they are of the desired length\n",
        "# load pickled data and make datasets\n",
        "\n",
        "with open(PARENT_DIR+\"data/iwlst_train_sentences_small.pkl\", \"rb\") as f: # Can edit based on need\n",
        "    train_dict = pickle.load(f)\n",
        "with open(PARENT_DIR+\"data/iwlst_valid_sentences_small.pkl\", \"rb\") as f:\n",
        "    val_dict = pickle.load(f)\n",
        "with open(PARENT_DIR+\"data/iwlst_test_sentences_small.pkl\", \"rb\") as f:\n",
        "    test_dict = pickle.load(f)\n",
        "\n",
        "print(len(train_dict['de']))\n",
        "print(len(val_dict['de']))\n",
        "print(len(test_dict['de']))"
      ],
      "execution_count": null,
      "outputs": [
        {
          "output_type": "stream",
          "name": "stdout",
          "text": [
            "20611\n",
            "89\n",
            "157\n"
          ]
        }
      ]
    },
    {
      "cell_type": "code",
      "metadata": {
        "colab": {
          "base_uri": "https://localhost:8080/"
        },
        "id": "CCs-lCEE41MA",
        "outputId": "8889931e-5c6d-4740-8f7c-d9458a36cf61"
      },
      "source": [
        "# check \n",
        "train_dict['de'][:2]"
      ],
      "execution_count": null,
      "outputs": [
        {
          "output_type": "execute_result",
          "data": {
            "text/plain": [
              "[['was', 'bedeutet', 'es', 'menü', 'auf', 'arabisch', 'zu', 'sagen'],\n",
              " ['aber',\n",
              "  'mein',\n",
              "  'kollege',\n",
              "  'pieter',\n",
              "  'abbeel',\n",
              "  'der',\n",
              "  'hier',\n",
              "  'in',\n",
              "  'berkeley',\n",
              "  'ist',\n",
              "  'hat',\n",
              "  'ein',\n",
              "  'neues',\n",
              "  'set',\n",
              "  'an',\n",
              "  'techniken',\n",
              "  'entwickelt',\n",
              "  'um',\n",
              "  'einen',\n",
              "  'roboter',\n",
              "  'anhand',\n",
              "  'von',\n",
              "  'beispielen',\n",
              "  'zu',\n",
              "  'unterrichten']]"
            ]
          },
          "metadata": {},
          "execution_count": 45
        }
      ]
    },
    {
      "cell_type": "code",
      "metadata": {
        "colab": {
          "base_uri": "https://localhost:8080/"
        },
        "id": "wjJYB3uP9arJ",
        "outputId": "16338bc8-bb8d-4d88-be91-834c153957b6"
      },
      "source": [
        "test_dict['en'][:2]"
      ],
      "execution_count": null,
      "outputs": [
        {
          "output_type": "execute_result",
          "data": {
            "text/plain": [
              "[['and',\n",
              "  'what',\n",
              "  'the',\n",
              "  'marshmallow',\n",
              "  'challenge',\n",
              "  'does',\n",
              "  'is',\n",
              "  'it',\n",
              "  'helps',\n",
              "  'them',\n",
              "  'identify',\n",
              "  'the',\n",
              "  'hidden',\n",
              "  'assumptions'],\n",
              " ['you', 'can', 'jump', 'right', 'into', 'a', 'specific', 'issue']]"
            ]
          },
          "metadata": {},
          "execution_count": 44
        }
      ]
    },
    {
      "cell_type": "code",
      "metadata": {
        "id": "5T9NIFimU_Nx"
      },
      "source": [
        "########## Don't run this section above again: get 10% of everything ##############"
      ],
      "execution_count": null,
      "outputs": []
    }
  ]
}